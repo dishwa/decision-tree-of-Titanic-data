{
 "cells": [
  {
   "cell_type": "code",
   "execution_count": 2,
   "id": "4aa24777",
   "metadata": {
    "scrolled": true
   },
   "outputs": [
    {
     "name": "stdout",
     "output_type": "stream",
     "text": [
      "Collecting bs4\n",
      "  Using cached bs4-0.0.1.tar.gz (1.1 kB)\n",
      "Requirement already satisfied: beautifulsoup4 in c:\\users\\admin\\anaconda3\\envs\\dmw5\\lib\\site-packages (from bs4) (4.11.1)\n",
      "Requirement already satisfied: soupsieve>1.2 in c:\\users\\admin\\anaconda3\\envs\\dmw5\\lib\\site-packages (from beautifulsoup4->bs4) (2.3.2)\n",
      "Building wheels for collected packages: bs4\n",
      "  Building wheel for bs4 (setup.py): started\n",
      "  Building wheel for bs4 (setup.py): finished with status 'done'\n",
      "  Created wheel for bs4: filename=bs4-0.0.1-py3-none-any.whl size=1272 sha256=a915eba2d4cd1581c776ad6734cdb34e78b8c4a5b5a0cde50c7d051203a362da\n",
      "  Stored in directory: c:\\users\\admin\\appdata\\local\\pip\\cache\\wheels\\75\\78\\21\\68b124549c9bdc94f822c02fb9aa3578a669843f9767776bca\n",
      "Successfully built bs4\n",
      "Installing collected packages: bs4\n",
      "Successfully installed bs4-0.0.1\n",
      "Requirement already satisfied: graphviz in c:\\users\\admin\\anaconda3\\envs\\dmw5\\lib\\site-packages (0.20)\n",
      "Requirement already satisfied: sklearn in c:\\users\\admin\\anaconda3\\envs\\dmw5\\lib\\site-packages (0.0)\n",
      "Requirement already satisfied: scikit-learn in c:\\users\\admin\\anaconda3\\envs\\dmw5\\lib\\site-packages (from sklearn) (1.0.2)\n",
      "Requirement already satisfied: joblib>=0.11 in c:\\users\\admin\\anaconda3\\envs\\dmw5\\lib\\site-packages (from scikit-learn->sklearn) (1.1.0)\n",
      "Requirement already satisfied: threadpoolctl>=2.0.0 in c:\\users\\admin\\anaconda3\\envs\\dmw5\\lib\\site-packages (from scikit-learn->sklearn) (3.1.0)\n",
      "Requirement already satisfied: numpy>=1.14.6 in c:\\users\\admin\\anaconda3\\envs\\dmw5\\lib\\site-packages (from scikit-learn->sklearn) (1.21.6)\n",
      "Requirement already satisfied: scipy>=1.1.0 in c:\\users\\admin\\anaconda3\\envs\\dmw5\\lib\\site-packages (from scikit-learn->sklearn) (1.8.0)\n",
      "Requirement already satisfied: graphviz in c:\\users\\admin\\anaconda3\\envs\\dmw5\\lib\\site-packages (0.20)\n",
      "Collecting html5lib\n",
      "  Downloading html5lib-1.1-py2.py3-none-any.whl (112 kB)\n",
      "Requirement already satisfied: six>=1.9 in c:\\users\\admin\\anaconda3\\envs\\dmw5\\lib\\site-packages (from html5lib) (1.16.0)\n",
      "Requirement already satisfied: webencodings in c:\\users\\admin\\anaconda3\\envs\\dmw5\\lib\\site-packages (from html5lib) (0.5.1)\n",
      "Installing collected packages: html5lib\n",
      "Successfully installed html5lib-1.1\n"
     ]
    }
   ],
   "source": [
    "!pip install bs4\n",
    "!pip install graphviz\n",
    "!pip install sklearn\n",
    "!pip install graphviz\n",
    "!pip install html5lib\n",
    "import re\n",
    "import pandas as pd\n",
    "from bs4 import BeautifulSoup\n",
    "from sklearn.model_selection import train_test_split\n",
    "from sklearn.tree import DecisionTreeClassifier"
   ]
  },
  {
   "cell_type": "code",
   "execution_count": 3,
   "id": "b0abc084",
   "metadata": {},
   "outputs": [],
   "source": [
    "def Catergorize_Gender(name):\n",
    "    firstname = name[name.index(',')+2:] \n",
    "    salution = firstname.split(' ')[0]\n",
    "    if(salution.upper() in ['Mr', 'Master']):\n",
    "        return 1\n",
    "    else:\n",
    "        return 0\n",
    "\n",
    "def Catergorize_Survival(value):\n",
    "    if(value.strip() == 'nan' or '[' in value):\n",
    "        return 0\n",
    "    else:\n",
    "        return 1\n",
    "\n",
    "def procces_age(value):\n",
    "    if('m' in value):\n",
    "        return float(re.findall(r'-?\\d+\\.?\\d*', value)[0])/12\n",
    "    else:\n",
    "        return float(value)\n",
    "\n",
    "def Catergorize_Class(value):\n",
    "    if('PASSENGER' in value.upper()):\n",
    "        return value.split(\" \")[0]\n",
    "    else:\n",
    "        return 'Crew'\n",
    "\n",
    "def Categorize_dept(value):\n",
    "    if('PASSENGER' in value.upper()):\n",
    "        return 1\n",
    "    else:\n",
    "        return 0\n",
    "\n",
    "def CattoNum(series):\n",
    "    series = series.astype('category')\n",
    "    d = dict(enumerate(series.cat.categories))\n",
    "    print (d)\n",
    "    return series.cat.codes\n"
   ]
  },
  {
   "cell_type": "code",
   "execution_count": 6,
   "id": "ff88315f",
   "metadata": {},
   "outputs": [
    {
     "data": {
      "text/html": [
       "<div>\n",
       "<style scoped>\n",
       "    .dataframe tbody tr th:only-of-type {\n",
       "        vertical-align: middle;\n",
       "    }\n",
       "\n",
       "    .dataframe tbody tr th {\n",
       "        vertical-align: top;\n",
       "    }\n",
       "\n",
       "    .dataframe thead th {\n",
       "        text-align: right;\n",
       "    }\n",
       "</style>\n",
       "<table border=\"1\" class=\"dataframe\">\n",
       "  <thead>\n",
       "    <tr style=\"text-align: right;\">\n",
       "      <th></th>\n",
       "      <th>Name</th>\n",
       "      <th>Age</th>\n",
       "      <th>Class/Dept</th>\n",
       "      <th>Ticket</th>\n",
       "      <th>Joined</th>\n",
       "      <th>Job</th>\n",
       "      <th>Boat [Body]</th>\n",
       "      <th>Unnamed: 7</th>\n",
       "    </tr>\n",
       "  </thead>\n",
       "  <tbody>\n",
       "    <tr>\n",
       "      <th>0</th>\n",
       "      <td>AB─½-AL-MUN├Ā, Mr N─üs─½f Q─üsim</td>\n",
       "      <td>27</td>\n",
       "      <td>3rd Class Passenger</td>\n",
       "      <td>2699£18 15s 9d</td>\n",
       "      <td>Cherbourg</td>\n",
       "      <td>NaN</td>\n",
       "      <td>15</td>\n",
       "      <td>NaN</td>\n",
       "    </tr>\n",
       "    <tr>\n",
       "      <th>1</th>\n",
       "      <td>ABBING, Mr Anthony</td>\n",
       "      <td>42</td>\n",
       "      <td>3rd Class Passenger</td>\n",
       "      <td>5547£7 11s</td>\n",
       "      <td>Southampton</td>\n",
       "      <td>Blacksmith</td>\n",
       "      <td>NaN</td>\n",
       "      <td>NaN</td>\n",
       "    </tr>\n",
       "    <tr>\n",
       "      <th>2</th>\n",
       "      <td>ABBOTT, Mrs Rhoda Mary 'Rosa'</td>\n",
       "      <td>39</td>\n",
       "      <td>3rd Class Passenger</td>\n",
       "      <td>CA2673£20 5s</td>\n",
       "      <td>Southampton</td>\n",
       "      <td>NaN</td>\n",
       "      <td>A</td>\n",
       "      <td>NaN</td>\n",
       "    </tr>\n",
       "    <tr>\n",
       "      <th>3</th>\n",
       "      <td>ABBOTT, Mr Rossmore Edward</td>\n",
       "      <td>16</td>\n",
       "      <td>3rd Class Passenger</td>\n",
       "      <td>CA2673£20 5s</td>\n",
       "      <td>Southampton</td>\n",
       "      <td>Jeweller</td>\n",
       "      <td>[190]</td>\n",
       "      <td>NaN</td>\n",
       "    </tr>\n",
       "    <tr>\n",
       "      <th>4</th>\n",
       "      <td>ABBOTT, Mr Eugene Joseph</td>\n",
       "      <td>13</td>\n",
       "      <td>3rd Class Passenger</td>\n",
       "      <td>CA2673£20 5s</td>\n",
       "      <td>Southampton</td>\n",
       "      <td>Scholar</td>\n",
       "      <td>NaN</td>\n",
       "      <td>NaN</td>\n",
       "    </tr>\n",
       "  </tbody>\n",
       "</table>\n",
       "</div>"
      ],
      "text/plain": [
       "                               Name Age           Class/Dept          Ticket  \\\n",
       "0  AB─½-AL-MUN├Ā, Mr N─üs─½f Q─üsim  27  3rd Class Passenger  2699£18 15s 9d   \n",
       "1                ABBING, Mr Anthony  42  3rd Class Passenger      5547£7 11s   \n",
       "2     ABBOTT, Mrs Rhoda Mary 'Rosa'  39  3rd Class Passenger    CA2673£20 5s   \n",
       "3        ABBOTT, Mr Rossmore Edward  16  3rd Class Passenger    CA2673£20 5s   \n",
       "4          ABBOTT, Mr Eugene Joseph  13  3rd Class Passenger    CA2673£20 5s   \n",
       "\n",
       "        Joined         Job Boat [Body]  Unnamed: 7  \n",
       "0    Cherbourg         NaN          15         NaN  \n",
       "1  Southampton  Blacksmith         NaN         NaN  \n",
       "2  Southampton         NaN           A         NaN  \n",
       "3  Southampton    Jeweller       [190]         NaN  \n",
       "4  Southampton     Scholar         NaN         NaN  "
      ]
     },
     "execution_count": 6,
     "metadata": {},
     "output_type": "execute_result"
    }
   ],
   "source": [
    "DataFile = r\"C:\\Users\\admin\\Desktop\\dishwa\\dmw\\Practical 7\\titanicdata.htm\"\n",
    "\n",
    "with open(DataFile, 'rb') as f:\n",
    "    soup = BeautifulSoup(f, \"html.parser\")\n",
    "\n",
    "table = soup.find('table')\n",
    "data = pd.read_html(str(table), flavor='bs4')[0]\n",
    "data.head(5)"
   ]
  },
  {
   "cell_type": "code",
   "execution_count": 7,
   "id": "06941f77",
   "metadata": {},
   "outputs": [
    {
     "name": "stdout",
     "output_type": "stream",
     "text": [
      "                               Name   Age           Class/Dept Boat [Body]\n",
      "0            AB-AL-MUN, Mr Nsf Qsim  27.0  3rd Class Passenger          15\n",
      "1                ABBING, Mr Anthony  42.0  3rd Class Passenger         nan\n",
      "2     ABBOTT, Mrs Rhoda Mary 'Rosa'  39.0  3rd Class Passenger           A\n",
      "3        ABBOTT, Mr Rossmore Edward  16.0  3rd Class Passenger       [190]\n",
      "4          ABBOTT, Mr Eugene Joseph  13.0  3rd Class Passenger         nan\n",
      "...                             ...   ...                  ...         ...\n",
      "2451       ZAKARIAN, Mr Mapriededer  22.0  3rd Class Passenger       [304]\n",
      "2452            ZANETTI, Sig. Minio  20.0     Restaurant Staff         nan\n",
      "2453             ZARRACCHI, Sig. L.  26.0     Restaurant Staff         nan\n",
      "2454               ZENNI, Mr Philip  25.0  3rd Class Passenger           6\n",
      "2455             ZIMMERMANN, Mr Leo  29.0  3rd Class Passenger         nan\n",
      "\n",
      "[2456 rows x 4 columns]\n"
     ]
    }
   ],
   "source": [
    "data['Age'] = data['Age'].map(str).apply(procces_age)\n",
    "data['Name'] = data['Name'].map(str).apply(lambda x:x.encode('utf-8').decode('ascii','ignore'))\n",
    "data['Boat [Body]'] = data['Boat [Body]'].map(str).apply(lambda x:x.encode('utf-8').decode('ascii','ignore'))\n",
    "data_trim = data[['Name', 'Age', 'Class/Dept','Boat [Body]']]\n",
    "print(data_trim)"
   ]
  },
  {
   "cell_type": "code",
   "execution_count": 8,
   "id": "86dd61fe",
   "metadata": {},
   "outputs": [
    {
     "name": "stderr",
     "output_type": "stream",
     "text": [
      "C:\\Users\\admin\\AppData\\Local\\Temp/ipykernel_35368/3273522421.py:1: SettingWithCopyWarning: \n",
      "A value is trying to be set on a copy of a slice from a DataFrame.\n",
      "Try using .loc[row_indexer,col_indexer] = value instead\n",
      "\n",
      "See the caveats in the documentation: https://pandas.pydata.org/pandas-docs/stable/user_guide/indexing.html#returning-a-view-versus-a-copy\n",
      "  data_trim['Gender'] = data_trim['Name'].map(str).apply(Catergorize_Gender)\n"
     ]
    },
    {
     "data": {
      "text/html": [
       "<div>\n",
       "<style scoped>\n",
       "    .dataframe tbody tr th:only-of-type {\n",
       "        vertical-align: middle;\n",
       "    }\n",
       "\n",
       "    .dataframe tbody tr th {\n",
       "        vertical-align: top;\n",
       "    }\n",
       "\n",
       "    .dataframe thead th {\n",
       "        text-align: right;\n",
       "    }\n",
       "</style>\n",
       "<table border=\"1\" class=\"dataframe\">\n",
       "  <thead>\n",
       "    <tr style=\"text-align: right;\">\n",
       "      <th></th>\n",
       "      <th>Name</th>\n",
       "      <th>Age</th>\n",
       "      <th>Class/Dept</th>\n",
       "      <th>Boat [Body]</th>\n",
       "      <th>Gender</th>\n",
       "    </tr>\n",
       "  </thead>\n",
       "  <tbody>\n",
       "    <tr>\n",
       "      <th>0</th>\n",
       "      <td>AB-AL-MUN, Mr Nsf Qsim</td>\n",
       "      <td>27.0</td>\n",
       "      <td>3rd Class Passenger</td>\n",
       "      <td>15</td>\n",
       "      <td>0</td>\n",
       "    </tr>\n",
       "    <tr>\n",
       "      <th>1</th>\n",
       "      <td>ABBING, Mr Anthony</td>\n",
       "      <td>42.0</td>\n",
       "      <td>3rd Class Passenger</td>\n",
       "      <td>nan</td>\n",
       "      <td>0</td>\n",
       "    </tr>\n",
       "    <tr>\n",
       "      <th>2</th>\n",
       "      <td>ABBOTT, Mrs Rhoda Mary 'Rosa'</td>\n",
       "      <td>39.0</td>\n",
       "      <td>3rd Class Passenger</td>\n",
       "      <td>A</td>\n",
       "      <td>0</td>\n",
       "    </tr>\n",
       "    <tr>\n",
       "      <th>3</th>\n",
       "      <td>ABBOTT, Mr Rossmore Edward</td>\n",
       "      <td>16.0</td>\n",
       "      <td>3rd Class Passenger</td>\n",
       "      <td>[190]</td>\n",
       "      <td>0</td>\n",
       "    </tr>\n",
       "    <tr>\n",
       "      <th>4</th>\n",
       "      <td>ABBOTT, Mr Eugene Joseph</td>\n",
       "      <td>13.0</td>\n",
       "      <td>3rd Class Passenger</td>\n",
       "      <td>nan</td>\n",
       "      <td>0</td>\n",
       "    </tr>\n",
       "  </tbody>\n",
       "</table>\n",
       "</div>"
      ],
      "text/plain": [
       "                            Name   Age           Class/Dept Boat [Body]  \\\n",
       "0         AB-AL-MUN, Mr Nsf Qsim  27.0  3rd Class Passenger          15   \n",
       "1             ABBING, Mr Anthony  42.0  3rd Class Passenger         nan   \n",
       "2  ABBOTT, Mrs Rhoda Mary 'Rosa'  39.0  3rd Class Passenger           A   \n",
       "3     ABBOTT, Mr Rossmore Edward  16.0  3rd Class Passenger       [190]   \n",
       "4       ABBOTT, Mr Eugene Joseph  13.0  3rd Class Passenger         nan   \n",
       "\n",
       "   Gender  \n",
       "0       0  \n",
       "1       0  \n",
       "2       0  \n",
       "3       0  \n",
       "4       0  "
      ]
     },
     "execution_count": 8,
     "metadata": {},
     "output_type": "execute_result"
    }
   ],
   "source": [
    "data_trim['Gender'] = data_trim['Name'].map(str).apply(Catergorize_Gender)\n",
    "data_trim.head()"
   ]
  },
  {
   "cell_type": "code",
   "execution_count": 9,
   "id": "c9dbf83a",
   "metadata": {},
   "outputs": [
    {
     "name": "stderr",
     "output_type": "stream",
     "text": [
      "C:\\Users\\admin\\AppData\\Local\\Temp/ipykernel_35368/1872809026.py:1: SettingWithCopyWarning: \n",
      "A value is trying to be set on a copy of a slice from a DataFrame.\n",
      "Try using .loc[row_indexer,col_indexer] = value instead\n",
      "\n",
      "See the caveats in the documentation: https://pandas.pydata.org/pandas-docs/stable/user_guide/indexing.html#returning-a-view-versus-a-copy\n",
      "  data_trim['Crew/Passenger'] = data_trim['Class/Dept'].map(str).apply(Categorize_dept)\n"
     ]
    },
    {
     "data": {
      "text/html": [
       "<div>\n",
       "<style scoped>\n",
       "    .dataframe tbody tr th:only-of-type {\n",
       "        vertical-align: middle;\n",
       "    }\n",
       "\n",
       "    .dataframe tbody tr th {\n",
       "        vertical-align: top;\n",
       "    }\n",
       "\n",
       "    .dataframe thead th {\n",
       "        text-align: right;\n",
       "    }\n",
       "</style>\n",
       "<table border=\"1\" class=\"dataframe\">\n",
       "  <thead>\n",
       "    <tr style=\"text-align: right;\">\n",
       "      <th></th>\n",
       "      <th>Name</th>\n",
       "      <th>Age</th>\n",
       "      <th>Class/Dept</th>\n",
       "      <th>Boat [Body]</th>\n",
       "      <th>Gender</th>\n",
       "      <th>Crew/Passenger</th>\n",
       "    </tr>\n",
       "  </thead>\n",
       "  <tbody>\n",
       "    <tr>\n",
       "      <th>0</th>\n",
       "      <td>AB-AL-MUN, Mr Nsf Qsim</td>\n",
       "      <td>27.0</td>\n",
       "      <td>3rd Class Passenger</td>\n",
       "      <td>15</td>\n",
       "      <td>0</td>\n",
       "      <td>1</td>\n",
       "    </tr>\n",
       "    <tr>\n",
       "      <th>1</th>\n",
       "      <td>ABBING, Mr Anthony</td>\n",
       "      <td>42.0</td>\n",
       "      <td>3rd Class Passenger</td>\n",
       "      <td>nan</td>\n",
       "      <td>0</td>\n",
       "      <td>1</td>\n",
       "    </tr>\n",
       "    <tr>\n",
       "      <th>2</th>\n",
       "      <td>ABBOTT, Mrs Rhoda Mary 'Rosa'</td>\n",
       "      <td>39.0</td>\n",
       "      <td>3rd Class Passenger</td>\n",
       "      <td>A</td>\n",
       "      <td>0</td>\n",
       "      <td>1</td>\n",
       "    </tr>\n",
       "    <tr>\n",
       "      <th>3</th>\n",
       "      <td>ABBOTT, Mr Rossmore Edward</td>\n",
       "      <td>16.0</td>\n",
       "      <td>3rd Class Passenger</td>\n",
       "      <td>[190]</td>\n",
       "      <td>0</td>\n",
       "      <td>1</td>\n",
       "    </tr>\n",
       "    <tr>\n",
       "      <th>4</th>\n",
       "      <td>ABBOTT, Mr Eugene Joseph</td>\n",
       "      <td>13.0</td>\n",
       "      <td>3rd Class Passenger</td>\n",
       "      <td>nan</td>\n",
       "      <td>0</td>\n",
       "      <td>1</td>\n",
       "    </tr>\n",
       "  </tbody>\n",
       "</table>\n",
       "</div>"
      ],
      "text/plain": [
       "                            Name   Age           Class/Dept Boat [Body]  \\\n",
       "0         AB-AL-MUN, Mr Nsf Qsim  27.0  3rd Class Passenger          15   \n",
       "1             ABBING, Mr Anthony  42.0  3rd Class Passenger         nan   \n",
       "2  ABBOTT, Mrs Rhoda Mary 'Rosa'  39.0  3rd Class Passenger           A   \n",
       "3     ABBOTT, Mr Rossmore Edward  16.0  3rd Class Passenger       [190]   \n",
       "4       ABBOTT, Mr Eugene Joseph  13.0  3rd Class Passenger         nan   \n",
       "\n",
       "   Gender  Crew/Passenger  \n",
       "0       0               1  \n",
       "1       0               1  \n",
       "2       0               1  \n",
       "3       0               1  \n",
       "4       0               1  "
      ]
     },
     "execution_count": 9,
     "metadata": {},
     "output_type": "execute_result"
    }
   ],
   "source": [
    "data_trim['Crew/Passenger'] = data_trim['Class/Dept'].map(str).apply(Categorize_dept)\n",
    "data_trim.head()"
   ]
  },
  {
   "cell_type": "code",
   "execution_count": 10,
   "id": "f08d2d0d",
   "metadata": {},
   "outputs": [
    {
     "name": "stderr",
     "output_type": "stream",
     "text": [
      "C:\\Users\\admin\\AppData\\Local\\Temp/ipykernel_35368/2296648441.py:1: SettingWithCopyWarning: \n",
      "A value is trying to be set on a copy of a slice from a DataFrame.\n",
      "Try using .loc[row_indexer,col_indexer] = value instead\n",
      "\n",
      "See the caveats in the documentation: https://pandas.pydata.org/pandas-docs/stable/user_guide/indexing.html#returning-a-view-versus-a-copy\n",
      "  data_trim['Class'] = data_trim['Class/Dept'].apply(Catergorize_Class)\n"
     ]
    },
    {
     "data": {
      "text/html": [
       "<div>\n",
       "<style scoped>\n",
       "    .dataframe tbody tr th:only-of-type {\n",
       "        vertical-align: middle;\n",
       "    }\n",
       "\n",
       "    .dataframe tbody tr th {\n",
       "        vertical-align: top;\n",
       "    }\n",
       "\n",
       "    .dataframe thead th {\n",
       "        text-align: right;\n",
       "    }\n",
       "</style>\n",
       "<table border=\"1\" class=\"dataframe\">\n",
       "  <thead>\n",
       "    <tr style=\"text-align: right;\">\n",
       "      <th></th>\n",
       "      <th>Name</th>\n",
       "      <th>Age</th>\n",
       "      <th>Class/Dept</th>\n",
       "      <th>Boat [Body]</th>\n",
       "      <th>Gender</th>\n",
       "      <th>Crew/Passenger</th>\n",
       "      <th>Class</th>\n",
       "    </tr>\n",
       "  </thead>\n",
       "  <tbody>\n",
       "    <tr>\n",
       "      <th>0</th>\n",
       "      <td>AB-AL-MUN, Mr Nsf Qsim</td>\n",
       "      <td>27.0</td>\n",
       "      <td>3rd Class Passenger</td>\n",
       "      <td>15</td>\n",
       "      <td>0</td>\n",
       "      <td>1</td>\n",
       "      <td>3rd</td>\n",
       "    </tr>\n",
       "    <tr>\n",
       "      <th>1</th>\n",
       "      <td>ABBING, Mr Anthony</td>\n",
       "      <td>42.0</td>\n",
       "      <td>3rd Class Passenger</td>\n",
       "      <td>nan</td>\n",
       "      <td>0</td>\n",
       "      <td>1</td>\n",
       "      <td>3rd</td>\n",
       "    </tr>\n",
       "    <tr>\n",
       "      <th>2</th>\n",
       "      <td>ABBOTT, Mrs Rhoda Mary 'Rosa'</td>\n",
       "      <td>39.0</td>\n",
       "      <td>3rd Class Passenger</td>\n",
       "      <td>A</td>\n",
       "      <td>0</td>\n",
       "      <td>1</td>\n",
       "      <td>3rd</td>\n",
       "    </tr>\n",
       "    <tr>\n",
       "      <th>3</th>\n",
       "      <td>ABBOTT, Mr Rossmore Edward</td>\n",
       "      <td>16.0</td>\n",
       "      <td>3rd Class Passenger</td>\n",
       "      <td>[190]</td>\n",
       "      <td>0</td>\n",
       "      <td>1</td>\n",
       "      <td>3rd</td>\n",
       "    </tr>\n",
       "    <tr>\n",
       "      <th>4</th>\n",
       "      <td>ABBOTT, Mr Eugene Joseph</td>\n",
       "      <td>13.0</td>\n",
       "      <td>3rd Class Passenger</td>\n",
       "      <td>nan</td>\n",
       "      <td>0</td>\n",
       "      <td>1</td>\n",
       "      <td>3rd</td>\n",
       "    </tr>\n",
       "  </tbody>\n",
       "</table>\n",
       "</div>"
      ],
      "text/plain": [
       "                            Name   Age           Class/Dept Boat [Body]  \\\n",
       "0         AB-AL-MUN, Mr Nsf Qsim  27.0  3rd Class Passenger          15   \n",
       "1             ABBING, Mr Anthony  42.0  3rd Class Passenger         nan   \n",
       "2  ABBOTT, Mrs Rhoda Mary 'Rosa'  39.0  3rd Class Passenger           A   \n",
       "3     ABBOTT, Mr Rossmore Edward  16.0  3rd Class Passenger       [190]   \n",
       "4       ABBOTT, Mr Eugene Joseph  13.0  3rd Class Passenger         nan   \n",
       "\n",
       "   Gender  Crew/Passenger Class  \n",
       "0       0               1   3rd  \n",
       "1       0               1   3rd  \n",
       "2       0               1   3rd  \n",
       "3       0               1   3rd  \n",
       "4       0               1   3rd  "
      ]
     },
     "execution_count": 10,
     "metadata": {},
     "output_type": "execute_result"
    }
   ],
   "source": [
    "data_trim['Class'] = data_trim['Class/Dept'].apply(Catergorize_Class)\n",
    "data_trim.head()"
   ]
  },
  {
   "cell_type": "code",
   "execution_count": 11,
   "id": "dfdbe35d",
   "metadata": {},
   "outputs": [
    {
     "data": {
      "text/html": [
       "<div>\n",
       "<style scoped>\n",
       "    .dataframe tbody tr th:only-of-type {\n",
       "        vertical-align: middle;\n",
       "    }\n",
       "\n",
       "    .dataframe tbody tr th {\n",
       "        vertical-align: top;\n",
       "    }\n",
       "\n",
       "    .dataframe thead th {\n",
       "        text-align: right;\n",
       "    }\n",
       "</style>\n",
       "<table border=\"1\" class=\"dataframe\">\n",
       "  <thead>\n",
       "    <tr style=\"text-align: right;\">\n",
       "      <th></th>\n",
       "      <th>Name</th>\n",
       "      <th>Age</th>\n",
       "      <th>Class/Dept</th>\n",
       "      <th>Boat [Body]</th>\n",
       "      <th>Gender</th>\n",
       "      <th>Crew/Passenger</th>\n",
       "      <th>Class</th>\n",
       "      <th>Survival</th>\n",
       "    </tr>\n",
       "  </thead>\n",
       "  <tbody>\n",
       "    <tr>\n",
       "      <th>0</th>\n",
       "      <td>AB-AL-MUN, Mr Nsf Qsim</td>\n",
       "      <td>27.0</td>\n",
       "      <td>3rd Class Passenger</td>\n",
       "      <td>15</td>\n",
       "      <td>0</td>\n",
       "      <td>1</td>\n",
       "      <td>3rd</td>\n",
       "      <td>1</td>\n",
       "    </tr>\n",
       "    <tr>\n",
       "      <th>1</th>\n",
       "      <td>ABBING, Mr Anthony</td>\n",
       "      <td>42.0</td>\n",
       "      <td>3rd Class Passenger</td>\n",
       "      <td>nan</td>\n",
       "      <td>0</td>\n",
       "      <td>1</td>\n",
       "      <td>3rd</td>\n",
       "      <td>0</td>\n",
       "    </tr>\n",
       "    <tr>\n",
       "      <th>2</th>\n",
       "      <td>ABBOTT, Mrs Rhoda Mary 'Rosa'</td>\n",
       "      <td>39.0</td>\n",
       "      <td>3rd Class Passenger</td>\n",
       "      <td>A</td>\n",
       "      <td>0</td>\n",
       "      <td>1</td>\n",
       "      <td>3rd</td>\n",
       "      <td>1</td>\n",
       "    </tr>\n",
       "    <tr>\n",
       "      <th>3</th>\n",
       "      <td>ABBOTT, Mr Rossmore Edward</td>\n",
       "      <td>16.0</td>\n",
       "      <td>3rd Class Passenger</td>\n",
       "      <td>[190]</td>\n",
       "      <td>0</td>\n",
       "      <td>1</td>\n",
       "      <td>3rd</td>\n",
       "      <td>0</td>\n",
       "    </tr>\n",
       "    <tr>\n",
       "      <th>4</th>\n",
       "      <td>ABBOTT, Mr Eugene Joseph</td>\n",
       "      <td>13.0</td>\n",
       "      <td>3rd Class Passenger</td>\n",
       "      <td>nan</td>\n",
       "      <td>0</td>\n",
       "      <td>1</td>\n",
       "      <td>3rd</td>\n",
       "      <td>0</td>\n",
       "    </tr>\n",
       "  </tbody>\n",
       "</table>\n",
       "</div>"
      ],
      "text/plain": [
       "                            Name   Age           Class/Dept Boat [Body]  \\\n",
       "0         AB-AL-MUN, Mr Nsf Qsim  27.0  3rd Class Passenger          15   \n",
       "1             ABBING, Mr Anthony  42.0  3rd Class Passenger         nan   \n",
       "2  ABBOTT, Mrs Rhoda Mary 'Rosa'  39.0  3rd Class Passenger           A   \n",
       "3     ABBOTT, Mr Rossmore Edward  16.0  3rd Class Passenger       [190]   \n",
       "4       ABBOTT, Mr Eugene Joseph  13.0  3rd Class Passenger         nan   \n",
       "\n",
       "   Gender  Crew/Passenger Class  Survival  \n",
       "0       0               1   3rd         1  \n",
       "1       0               1   3rd         0  \n",
       "2       0               1   3rd         1  \n",
       "3       0               1   3rd         0  \n",
       "4       0               1   3rd         0  "
      ]
     },
     "execution_count": 11,
     "metadata": {},
     "output_type": "execute_result"
    }
   ],
   "source": [
    "data_trim['Survival'] = data_trim['Boat [Body]'].apply(Catergorize_Survival)\n",
    "data_trim.head()"
   ]
  },
  {
   "cell_type": "code",
   "execution_count": 12,
   "id": "40d1d6ef",
   "metadata": {},
   "outputs": [
    {
     "data": {
      "text/html": [
       "<div>\n",
       "<style scoped>\n",
       "    .dataframe tbody tr th:only-of-type {\n",
       "        vertical-align: middle;\n",
       "    }\n",
       "\n",
       "    .dataframe tbody tr th {\n",
       "        vertical-align: top;\n",
       "    }\n",
       "\n",
       "    .dataframe thead th {\n",
       "        text-align: right;\n",
       "    }\n",
       "</style>\n",
       "<table border=\"1\" class=\"dataframe\">\n",
       "  <thead>\n",
       "    <tr style=\"text-align: right;\">\n",
       "      <th></th>\n",
       "      <th>Age</th>\n",
       "      <th>Crew/Passenger</th>\n",
       "      <th>Class/Dept</th>\n",
       "      <th>Survival</th>\n",
       "      <th>Gender</th>\n",
       "    </tr>\n",
       "  </thead>\n",
       "  <tbody>\n",
       "    <tr>\n",
       "      <th>0</th>\n",
       "      <td>27.0</td>\n",
       "      <td>1</td>\n",
       "      <td>3rd Class Passenger</td>\n",
       "      <td>1</td>\n",
       "      <td>0</td>\n",
       "    </tr>\n",
       "    <tr>\n",
       "      <th>1</th>\n",
       "      <td>42.0</td>\n",
       "      <td>1</td>\n",
       "      <td>3rd Class Passenger</td>\n",
       "      <td>0</td>\n",
       "      <td>0</td>\n",
       "    </tr>\n",
       "    <tr>\n",
       "      <th>2</th>\n",
       "      <td>39.0</td>\n",
       "      <td>1</td>\n",
       "      <td>3rd Class Passenger</td>\n",
       "      <td>1</td>\n",
       "      <td>0</td>\n",
       "    </tr>\n",
       "    <tr>\n",
       "      <th>3</th>\n",
       "      <td>16.0</td>\n",
       "      <td>1</td>\n",
       "      <td>3rd Class Passenger</td>\n",
       "      <td>0</td>\n",
       "      <td>0</td>\n",
       "    </tr>\n",
       "    <tr>\n",
       "      <th>4</th>\n",
       "      <td>13.0</td>\n",
       "      <td>1</td>\n",
       "      <td>3rd Class Passenger</td>\n",
       "      <td>0</td>\n",
       "      <td>0</td>\n",
       "    </tr>\n",
       "  </tbody>\n",
       "</table>\n",
       "</div>"
      ],
      "text/plain": [
       "    Age  Crew/Passenger           Class/Dept  Survival  Gender\n",
       "0  27.0               1  3rd Class Passenger         1       0\n",
       "1  42.0               1  3rd Class Passenger         0       0\n",
       "2  39.0               1  3rd Class Passenger         1       0\n",
       "3  16.0               1  3rd Class Passenger         0       0\n",
       "4  13.0               1  3rd Class Passenger         0       0"
      ]
     },
     "execution_count": 12,
     "metadata": {},
     "output_type": "execute_result"
    }
   ],
   "source": [
    "finaldata = data_trim[['Age', 'Crew/Passenger', 'Class/Dept', 'Survival', 'Gender']]\n",
    "finaldata.head()"
   ]
  },
  {
   "cell_type": "code",
   "execution_count": 13,
   "id": "f5ed5294",
   "metadata": {},
   "outputs": [
    {
     "data": {
      "text/plain": [
       "Crew/Passenger\n",
       "0    13.586957\n",
       "1    35.798817\n",
       "Name: Survival, dtype: float64"
      ]
     },
     "execution_count": 13,
     "metadata": {},
     "output_type": "execute_result"
    }
   ],
   "source": [
    "finaldata.groupby(['Crew/Passenger'])['Survival'].sum()*100/(finaldata.groupby(['Crew/Passenger'])['Survival'].count())"
   ]
  },
  {
   "cell_type": "code",
   "execution_count": 15,
   "id": "d14c0f6d",
   "metadata": {},
   "outputs": [
    {
     "name": "stdout",
     "output_type": "stream",
     "text": [
      "{0: 0, 1: 1}\n",
      "{0: '1st Class Passenger', 1: '1st Class PassengerCross Channel Passenger', 2: '1st Class PassengerH&W Guarantee Group', 3: '1st Class PassengerServant', 4: '2nd Class Passenger', 5: '2nd Class PassengerCross Channel Passenger', 6: '2nd Class PassengerH&W Guarantee Group', 7: '2nd Class PassengerMusician', 8: '2nd Class PassengerServant', 9: '3rd Class Passenger', 10: 'Deck Crew', 11: 'Deck CrewTitanic Officers', 12: 'Engineering Crew', 13: 'Restaurant Staff', 14: 'Victualling Crew', 15: 'Victualling CrewPostal Clerk'}\n",
      "{0: 0}\n"
     ]
    },
    {
     "name": "stderr",
     "output_type": "stream",
     "text": [
      "C:\\Users\\admin\\AppData\\Local\\Temp/ipykernel_35368/923593674.py:4: SettingWithCopyWarning: \n",
      "A value is trying to be set on a copy of a slice from a DataFrame.\n",
      "Try using .loc[row_indexer,col_indexer] = value instead\n",
      "\n",
      "See the caveats in the documentation: https://pandas.pydata.org/pandas-docs/stable/user_guide/indexing.html#returning-a-view-versus-a-copy\n",
      "  finaldata[['Crew/Passenger','Class/Dept', 'Gender']] = catData\n"
     ]
    },
    {
     "data": {
      "text/html": [
       "<div>\n",
       "<style scoped>\n",
       "    .dataframe tbody tr th:only-of-type {\n",
       "        vertical-align: middle;\n",
       "    }\n",
       "\n",
       "    .dataframe tbody tr th {\n",
       "        vertical-align: top;\n",
       "    }\n",
       "\n",
       "    .dataframe thead th {\n",
       "        text-align: right;\n",
       "    }\n",
       "</style>\n",
       "<table border=\"1\" class=\"dataframe\">\n",
       "  <thead>\n",
       "    <tr style=\"text-align: right;\">\n",
       "      <th></th>\n",
       "      <th>Age</th>\n",
       "      <th>Crew/Passenger</th>\n",
       "      <th>Class/Dept</th>\n",
       "      <th>Survival</th>\n",
       "      <th>Gender</th>\n",
       "    </tr>\n",
       "  </thead>\n",
       "  <tbody>\n",
       "    <tr>\n",
       "      <th>0</th>\n",
       "      <td>27.0</td>\n",
       "      <td>1</td>\n",
       "      <td>9</td>\n",
       "      <td>1</td>\n",
       "      <td>0</td>\n",
       "    </tr>\n",
       "    <tr>\n",
       "      <th>1</th>\n",
       "      <td>42.0</td>\n",
       "      <td>1</td>\n",
       "      <td>9</td>\n",
       "      <td>0</td>\n",
       "      <td>0</td>\n",
       "    </tr>\n",
       "    <tr>\n",
       "      <th>2</th>\n",
       "      <td>39.0</td>\n",
       "      <td>1</td>\n",
       "      <td>9</td>\n",
       "      <td>1</td>\n",
       "      <td>0</td>\n",
       "    </tr>\n",
       "    <tr>\n",
       "      <th>3</th>\n",
       "      <td>16.0</td>\n",
       "      <td>1</td>\n",
       "      <td>9</td>\n",
       "      <td>0</td>\n",
       "      <td>0</td>\n",
       "    </tr>\n",
       "    <tr>\n",
       "      <th>4</th>\n",
       "      <td>13.0</td>\n",
       "      <td>1</td>\n",
       "      <td>9</td>\n",
       "      <td>0</td>\n",
       "      <td>0</td>\n",
       "    </tr>\n",
       "  </tbody>\n",
       "</table>\n",
       "</div>"
      ],
      "text/plain": [
       "    Age  Crew/Passenger  Class/Dept  Survival  Gender\n",
       "0  27.0               1           9         1       0\n",
       "1  42.0               1           9         0       0\n",
       "2  39.0               1           9         1       0\n",
       "3  16.0               1           9         0       0\n",
       "4  13.0               1           9         0       0"
      ]
     },
     "execution_count": 15,
     "metadata": {},
     "output_type": "execute_result"
    }
   ],
   "source": [
    "def Compare(group, data):\n",
    "    return data.groupby(['Crew/Passenger'])['Survival'].sum()*100/(finaldata.groupby(['Crew/Passenger'])['Survival'].count())\n",
    "catData = finaldata[['Crew/Passenger','Class/Dept', 'Gender']].apply(CattoNum)\n",
    "finaldata[['Crew/Passenger','Class/Dept', 'Gender']] = catData\n",
    "\n",
    "# finaldata.groupby(['Crew/Passenger'])['Survival'].sum()*100/(finaldata.groupby(['Crew/Passenger'])['Survival'].count())\n",
    "finaldata.head()"
   ]
  },
  {
   "cell_type": "code",
   "execution_count": 16,
   "id": "dfc4afc6",
   "metadata": {},
   "outputs": [
    {
     "data": {
      "text/plain": [
       "2427"
      ]
     },
     "execution_count": 16,
     "metadata": {},
     "output_type": "execute_result"
    }
   ],
   "source": [
    "trainingdata = finaldata.dropna()\n",
    "len(trainingdata)"
   ]
  },
  {
   "cell_type": "code",
   "execution_count": 17,
   "id": "73c6597c",
   "metadata": {},
   "outputs": [
    {
     "name": "stdout",
     "output_type": "stream",
     "text": [
      "Train: 1941\n",
      "Test: 486\n"
     ]
    }
   ],
   "source": [
    "train, test = train_test_split(trainingdata, test_size=0.2)\n",
    "\n",
    "print(\"Train:\",len(train))\n",
    "print(\"Test:\",len(test))"
   ]
  },
  {
   "cell_type": "code",
   "execution_count": 18,
   "id": "293b0f83",
   "metadata": {},
   "outputs": [
    {
     "data": {
      "text/plain": [
       "DecisionTreeClassifier(max_leaf_nodes=25)"
      ]
     },
     "execution_count": 18,
     "metadata": {},
     "output_type": "execute_result"
    }
   ],
   "source": [
    "clf = DecisionTreeClassifier(max_leaf_nodes=25)\n",
    "clf = clf.fit(train[['Age', 'Crew/Passenger', 'Class/Dept', 'Gender']], train['Survival'])\n",
    "clf"
   ]
  },
  {
   "cell_type": "code",
   "execution_count": 19,
   "id": "37c33dc2",
   "metadata": {},
   "outputs": [
    {
     "data": {
      "text/plain": [
       "array([0.25322612, 0.        , 0.74677388, 0.        ])"
      ]
     },
     "execution_count": 19,
     "metadata": {},
     "output_type": "execute_result"
    }
   ],
   "source": [
    "clf.feature_importances_"
   ]
  },
  {
   "cell_type": "code",
   "execution_count": 48,
   "id": "87659a1f",
   "metadata": {},
   "outputs": [],
   "source": [
    "from sklearn import tree\n",
    "with open(\"titanic.dot\",\"w\") as f:\n",
    "    f = tree.export_graphviz(clf,feature_names=[\"Age\",\"Crew/Passenger\",\"Class/Dept\",\"Gender\"], out_file = f)\n",
    "import graphviz\n",
    "from graphviz import Source\n",
    "s = Source.from_file(\"titanic.dot\")\n",
    "s.render()\n",
    "s"
   ]
  },
  {
   "cell_type": "code",
   "execution_count": 22,
   "id": "b922af8d",
   "metadata": {},
   "outputs": [
    {
     "name": "stdout",
     "output_type": "stream",
     "text": [
      "Accuracy: 0.779835390946502\n"
     ]
    }
   ],
   "source": [
    "predictions = clf.predict(test[[\"Age\",\"Crew/Passenger\",\"Class/Dept\",\"Gender\"]])\n",
    "from sklearn.metrics import accuracy_score\n",
    "print('Accuracy:',accuracy_score(test[\"Survival\"], predictions))"
   ]
  },
  {
   "cell_type": "code",
   "execution_count": 23,
   "id": "c1061232",
   "metadata": {},
   "outputs": [
    {
     "name": "stdout",
     "output_type": "stream",
     "text": [
      "Survival Percentage of crew:\n"
     ]
    },
    {
     "data": {
      "text/plain": [
       "13.58695652173913"
      ]
     },
     "execution_count": 23,
     "metadata": {},
     "output_type": "execute_result"
    }
   ],
   "source": [
    "# Q1: What is the survival percentage of Crew members\n",
    "temp = finaldata.groupby(['Crew/Passenger'])['Survival'].sum()*100/(finaldata.groupby(['Crew/Passenger'])['Survival'].count())\n",
    "print(\"Survival Percentage of crew:\")\n",
    "temp[0]"
   ]
  },
  {
   "cell_type": "code",
   "execution_count": 24,
   "id": "47a601ff",
   "metadata": {},
   "outputs": [
    {
     "name": "stdout",
     "output_type": "stream",
     "text": [
      "Survival Percentage of 1st Class Passengers:\n"
     ]
    },
    {
     "data": {
      "text/plain": [
       "60.48951048951049"
      ]
     },
     "execution_count": 24,
     "metadata": {},
     "output_type": "execute_result"
    }
   ],
   "source": [
    "# Q2: What is the survival percentage of first class passengers\n",
    "temp = finaldata.groupby(['Class/Dept'])['Survival'].sum()*100/(finaldata.groupby(['Class/Dept'])['Survival'].count())\n",
    "print(\"Survival Percentage of 1st Class Passengers:\")\n",
    "temp[0]"
   ]
  },
  {
   "cell_type": "code",
   "execution_count": 27,
   "id": "122354f0",
   "metadata": {},
   "outputs": [
    {
     "name": "stdout",
     "output_type": "stream",
     "text": [
      "Survival percentage by Age:\n"
     ]
    },
    {
     "data": {
      "text/plain": [
       "[<matplotlib.lines.Line2D at 0x1f93fe88880>]"
      ]
     },
     "execution_count": 27,
     "metadata": {},
     "output_type": "execute_result"
    },
    {
     "data": {
      "image/png": "[encoded data removed]",
      "text/plain": [
       "<Figure size 432x288 with 1 Axes>"
      ]
     },
     "metadata": {
      "needs_background": "light"
     },
     "output_type": "display_data"
    }
   ],
   "source": [
    "# Does age also play a role in survival ? How can you say that\n",
    "temp = finaldata.groupby(['Age'])['Survival'].sum()*100/(finaldata.groupby(['Age'])['Survival'].count())\n",
    "print(\"Survival percentage by Age:\")\n",
    "temp\n",
    "import matplotlib.pyplot as plt\n",
    "plt.plot(temp)"
   ]
  },
  {
   "cell_type": "code",
   "execution_count": null,
   "id": "cfcbb8b2",
   "metadata": {},
   "outputs": [],
   "source": []
  }
 ],
 "metadata": {
  "kernelspec": {
   "display_name": "Python 3 (ipykernel)",
   "language": "python",
   "name": "python3"
  },
  "language_info": {
   "codemirror_mode": {
    "name": "ipython",
    "version": 3
   },
   "file_extension": ".py",
   "mimetype": "text/x-python",
   "name": "python",
   "nbconvert_exporter": "python",
   "pygments_lexer": "ipython3",
   "version": "3.8.12"
  }
 },
 "nbformat": 4,
 "nbformat_minor": 5
}
